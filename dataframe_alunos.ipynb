{
  "nbformat": 4,
  "nbformat_minor": 0,
  "metadata": {
    "colab": {
      "provenance": [],
      "authorship_tag": "ABX9TyPFRUmJPUhT/tcC2TUz1NTO",
      "include_colab_link": true
    },
    "kernelspec": {
      "name": "python3",
      "display_name": "Python 3"
    },
    "language_info": {
      "name": "python"
    }
  },
  "cells": [
    {
      "cell_type": "markdown",
      "metadata": {
        "id": "view-in-github",
        "colab_type": "text"
      },
      "source": [
        "<a href=\"https://colab.research.google.com/github/francisco-reis-ramos/dados-imobiliarios-com-pandas/blob/main/dataframe_alunos.ipynb\" target=\"_parent\"><img src=\"https://colab.research.google.com/assets/colab-badge.svg\" alt=\"Open In Colab\"/></a>"
      ]
    },
    {
      "cell_type": "markdown",
      "source": [
        "### Notebook criado para exercitar os conhecimento em Pandas adquiridos no curso 'Pandas Conhecendo a Biblioteca'"
      ],
      "metadata": {
        "id": "ZBtWwpPHdZyZ"
      }
    },
    {
      "cell_type": "code",
      "execution_count": null,
      "metadata": {
        "id": "muux-ts8cwOI"
      },
      "outputs": [],
      "source": [
        "import pandas as pd\n",
        "\n",
        "url = 'https://raw.githubusercontent.com/alura-cursos/pandas-conhecendo-a-biblioteca/main/desafios/alunos.csv'\n",
        "dados = pd.read_csv(url)\n",
        "dados"
      ]
    },
    {
      "cell_type": "code",
      "source": [
        "# Exibindo as 10 linhas superiores\n",
        "dados.head(7)"
      ],
      "metadata": {
        "id": "mLVgaf5ndOg7"
      },
      "execution_count": null,
      "outputs": []
    },
    {
      "cell_type": "code",
      "source": [
        "# Exibindo as 5 linhas inferiores\n",
        "dados.tail(5)"
      ],
      "metadata": {
        "id": "oOqTDeGOfP-K"
      },
      "execution_count": null,
      "outputs": []
    },
    {
      "cell_type": "code",
      "source": [
        "# Conferindo a quantidade de linhas e colunas\n",
        "dados.shape"
      ],
      "metadata": {
        "colab": {
          "base_uri": "https://localhost:8080/"
        },
        "id": "NbMrk0f7ncMK",
        "outputId": "376dae6b-881d-4cda-9538-14ad4dc81452"
      },
      "execution_count": 19,
      "outputs": [
        {
          "output_type": "execute_result",
          "data": {
            "text/plain": [
              "(18, 4)"
            ]
          },
          "metadata": {},
          "execution_count": 19
        }
      ]
    },
    {
      "cell_type": "code",
      "source": [
        "# Verificando os tipos de dados de cada coluna\n",
        "dados.info()"
      ],
      "metadata": {
        "id": "j2Sz9pNano-T"
      },
      "execution_count": null,
      "outputs": []
    },
    {
      "cell_type": "code",
      "source": [
        "# Calculando medidas estastíticas básicas do DataFrame\n",
        "dados.describe()"
      ],
      "metadata": {
        "id": "VLyp4CPjoL_Z"
      },
      "execution_count": null,
      "outputs": []
    }
  ]
}