{
  "nbformat": 4,
  "nbformat_minor": 0,
  "metadata": {
    "colab": {
      "provenance": [],
      "include_colab_link": true
    },
    "kernelspec": {
      "name": "python3",
      "display_name": "Python 3"
    },
    "language_info": {
      "name": "python"
    }
  },
  "cells": [
    {
      "cell_type": "markdown",
      "metadata": {
        "id": "view-in-github",
        "colab_type": "text"
      },
      "source": [
        "<a href=\"https://colab.research.google.com/github/francisco-reis-ramos/dados-imobiliarios-com-pandas/blob/main/Pandas_Conhecendo_a_Biblioteca.ipynb\" target=\"_parent\"><img src=\"https://colab.research.google.com/assets/colab-badge.svg\" alt=\"Open In Colab\"/></a>"
      ]
    },
    {
      "cell_type": "markdown",
      "source": [
        "# Conhecendo a base de dados"
      ],
      "metadata": {
        "id": "po_EJXY_WTZ6"
      }
    },
    {
      "cell_type": "markdown",
      "source": [
        "## Importando os dados\n"
      ],
      "metadata": {
        "id": "Yg7As1VwWnTw"
      }
    },
    {
      "cell_type": "code",
      "execution_count": 1,
      "metadata": {
        "id": "A0m9bw60V9Uj"
      },
      "outputs": [],
      "source": [
        "import pandas as pd"
      ]
    },
    {
      "cell_type": "code",
      "source": [
        "url = 'https://raw.githubusercontent.com/alura-cursos/pandas-conhecendo-a-biblioteca/main/base-de-dados/aluguel.csv'\n",
        "pd.read_csv(url)\n",
        "\n",
        "# Perceba na saída abaixo que a base está um pouco desconfigurada. Isso ocorre pq o read_csv por padrão considera a vírgula como elemento separador."
      ],
      "metadata": {
        "id": "-8GmBuLzWlnS"
      },
      "execution_count": null,
      "outputs": []
    },
    {
      "cell_type": "code",
      "source": [
        "# Maneira de ler a base fazendo a separação correta\n",
        "pd.read_csv(url,sep=';')"
      ],
      "metadata": {
        "id": "Af6xejuuWli2"
      },
      "execution_count": null,
      "outputs": []
    },
    {
      "cell_type": "code",
      "source": [
        "# Nomeando a base de dados áo criar uma variável\n",
        "dados = pd.read_csv(url,sep=';')\n",
        "dados"
      ],
      "metadata": {
        "id": "1EjEmItCWleQ"
      },
      "execution_count": null,
      "outputs": []
    },
    {
      "cell_type": "code",
      "source": [
        "# Exibindo registros iniciais da tabela através do método 'head()'\n",
        "dados.head(10)"
      ],
      "metadata": {
        "id": "KaWMKbLmWlZj"
      },
      "execution_count": null,
      "outputs": []
    },
    {
      "cell_type": "code",
      "source": [
        "# Exibindo registros finais da tabela através do método 'tail()'\n",
        "dados.tail(7)"
      ],
      "metadata": {
        "id": "cfLu1_AcW1Y1"
      },
      "execution_count": null,
      "outputs": []
    },
    {
      "cell_type": "code",
      "source": [
        "type(dados)"
      ],
      "metadata": {
        "id": "-6wHgCC6W3Dq"
      },
      "execution_count": null,
      "outputs": []
    },
    {
      "cell_type": "markdown",
      "source": [
        "## Características gerais da base de dados"
      ],
      "metadata": {
        "id": "rwL6VcT9W6W-"
      }
    },
    {
      "cell_type": "code",
      "source": [
        "# Verificando a quantidade de linhas e colunas da base\n",
        "dados.shape"
      ],
      "metadata": {
        "id": "V3RRXTIYW7KV",
        "colab": {
          "base_uri": "https://localhost:8080/"
        },
        "outputId": "75a3520e-7944-409a-fa31-1a0e26fe5400"
      },
      "execution_count": 26,
      "outputs": [
        {
          "output_type": "execute_result",
          "data": {
            "text/plain": [
              "(32960, 9)"
            ]
          },
          "metadata": {},
          "execution_count": 26
        }
      ]
    },
    {
      "cell_type": "code",
      "source": [
        "# Verificando os nomes das colunas\n",
        "dados.columns"
      ],
      "metadata": {
        "id": "55WX-hlnW6wm",
        "colab": {
          "base_uri": "https://localhost:8080/"
        },
        "outputId": "86213956-ac5c-464a-9fb5-7b1ff50ad307"
      },
      "execution_count": 27,
      "outputs": [
        {
          "output_type": "execute_result",
          "data": {
            "text/plain": [
              "Index(['Tipo', 'Bairro', 'Quartos', 'Vagas', 'Suites', 'Area', 'Valor',\n",
              "       'Condominio', 'IPTU'],\n",
              "      dtype='object')"
            ]
          },
          "metadata": {},
          "execution_count": 27
        }
      ]
    },
    {
      "cell_type": "code",
      "source": [
        "# É importante analisar os tipos de dados de cada coluna\n",
        "dados.info()"
      ],
      "metadata": {
        "id": "yacj_jwOXESW",
        "colab": {
          "base_uri": "https://localhost:8080/"
        },
        "outputId": "7b4b3eed-4aea-413e-b81c-45c6d218ffe6"
      },
      "execution_count": 33,
      "outputs": [
        {
          "output_type": "stream",
          "name": "stdout",
          "text": [
            "<class 'pandas.core.frame.DataFrame'>\n",
            "RangeIndex: 32960 entries, 0 to 32959\n",
            "Data columns (total 9 columns):\n",
            " #   Column      Non-Null Count  Dtype  \n",
            "---  ------      --------------  -----  \n",
            " 0   Tipo        32960 non-null  object \n",
            " 1   Bairro      32960 non-null  object \n",
            " 2   Quartos     32960 non-null  int64  \n",
            " 3   Vagas       32960 non-null  int64  \n",
            " 4   Suites      32960 non-null  int64  \n",
            " 5   Area        32960 non-null  int64  \n",
            " 6   Valor       32943 non-null  float64\n",
            " 7   Condominio  28867 non-null  float64\n",
            " 8   IPTU        22723 non-null  float64\n",
            "dtypes: float64(3), int64(4), object(2)\n",
            "memory usage: 2.3+ MB\n"
          ]
        }
      ]
    },
    {
      "cell_type": "code",
      "source": [
        "# Para entender cada um dos tipos de dados que compõem os campos da tabela, vamos visualizar uma coluna de cada tipo de dados.\n",
        "dados['Tipo'] # Analisando o tipo object, conclui-se que se trata de strings.\n",
        "dados['Quartos'] # Analisando o tipo int64, percebe-se que se trata de dados numéricos inteiros.\n",
        "dados['Valor'] # Analisando o tipo float64, percebe-se que se trata de dados decimais. Portanto, pode representar valores monetários.\n"
      ],
      "metadata": {
        "id": "Mh5HqrORXEMu"
      },
      "execution_count": null,
      "outputs": []
    },
    {
      "cell_type": "code",
      "source": [
        "# Visualizando os dados das três colunas ao mesmo tempo:\n",
        "dados[['Tipo','Quartos','Valor']]"
      ],
      "metadata": {
        "id": "ZmygOLCMXIyB"
      },
      "execution_count": null,
      "outputs": []
    },
    {
      "cell_type": "markdown",
      "source": [
        "# Análise exploratória de dados"
      ],
      "metadata": {
        "id": "cwVMOIMpWWfM"
      }
    },
    {
      "cell_type": "markdown",
      "source": [
        "## Qual o valor médio de aluguel por tipo de imóvel?"
      ],
      "metadata": {
        "id": "rnsDqFNDYV9-"
      }
    },
    {
      "cell_type": "code",
      "source": [],
      "metadata": {
        "id": "WRsE4GdoHZbg"
      },
      "execution_count": null,
      "outputs": []
    },
    {
      "cell_type": "code",
      "source": [],
      "metadata": {
        "id": "1CDTCoKvSZiy"
      },
      "execution_count": null,
      "outputs": []
    },
    {
      "cell_type": "code",
      "source": [],
      "metadata": {
        "id": "_Ud_6L8WTqWY"
      },
      "execution_count": null,
      "outputs": []
    },
    {
      "cell_type": "code",
      "source": [],
      "metadata": {
        "id": "7No8Z_W_YXJ1"
      },
      "execution_count": null,
      "outputs": []
    },
    {
      "cell_type": "code",
      "source": [],
      "metadata": {
        "id": "xwNUoofAYXFU"
      },
      "execution_count": null,
      "outputs": []
    },
    {
      "cell_type": "code",
      "source": [],
      "metadata": {
        "id": "wc-pASG0YXBt"
      },
      "execution_count": null,
      "outputs": []
    },
    {
      "cell_type": "markdown",
      "source": [
        "## Removendo os imóveis comerciais"
      ],
      "metadata": {
        "id": "c2rdhKbgZMpT"
      }
    },
    {
      "cell_type": "code",
      "source": [],
      "metadata": {
        "id": "JELgjo5dZIwe"
      },
      "execution_count": null,
      "outputs": []
    },
    {
      "cell_type": "code",
      "source": [],
      "metadata": {
        "id": "rDVKB-xtZUU9"
      },
      "execution_count": null,
      "outputs": []
    },
    {
      "cell_type": "code",
      "source": [],
      "metadata": {
        "id": "GK9p8CEK4CtU"
      },
      "execution_count": null,
      "outputs": []
    },
    {
      "cell_type": "code",
      "source": [],
      "metadata": {
        "id": "v7dZPR5c4Oo2"
      },
      "execution_count": null,
      "outputs": []
    },
    {
      "cell_type": "code",
      "source": [],
      "metadata": {
        "id": "DrCXtYhi4RcD"
      },
      "execution_count": null,
      "outputs": []
    },
    {
      "cell_type": "code",
      "source": [],
      "metadata": {
        "id": "PsTmoPPh5VGa"
      },
      "execution_count": null,
      "outputs": []
    },
    {
      "cell_type": "code",
      "source": [],
      "metadata": {
        "id": "ueADvdISZUSe"
      },
      "execution_count": null,
      "outputs": []
    },
    {
      "cell_type": "markdown",
      "source": [
        "## Qual o percentual de cada tipo de imóvel na nossa base de dados?"
      ],
      "metadata": {
        "id": "-wW1PcKCXP_8"
      }
    },
    {
      "cell_type": "code",
      "source": [],
      "metadata": {
        "id": "LFn-BeGNXa2k"
      },
      "execution_count": null,
      "outputs": []
    },
    {
      "cell_type": "code",
      "source": [],
      "metadata": {
        "id": "qpjKJkjmXa0A"
      },
      "execution_count": null,
      "outputs": []
    },
    {
      "cell_type": "code",
      "source": [],
      "metadata": {
        "id": "XMWQmHhbXaxG"
      },
      "execution_count": null,
      "outputs": []
    },
    {
      "cell_type": "code",
      "source": [],
      "metadata": {
        "id": "PXr5xrBvXasw"
      },
      "execution_count": null,
      "outputs": []
    },
    {
      "cell_type": "code",
      "source": [],
      "metadata": {
        "id": "38RX1mLhXaqK"
      },
      "execution_count": null,
      "outputs": []
    },
    {
      "cell_type": "markdown",
      "source": [
        "### **Selecionando apenas os imóveis do tipo apartamento**"
      ],
      "metadata": {
        "id": "2TJSa7Nr59qr"
      }
    },
    {
      "cell_type": "code",
      "source": [],
      "metadata": {
        "id": "HZ7AhVhl6kXH"
      },
      "execution_count": null,
      "outputs": []
    },
    {
      "cell_type": "code",
      "source": [],
      "metadata": {
        "id": "0CtEDNjF6xKH"
      },
      "execution_count": null,
      "outputs": []
    },
    {
      "cell_type": "markdown",
      "source": [
        "# Tratando e filtrando os dados"
      ],
      "metadata": {
        "id": "Qicz5ljuWYIG"
      }
    },
    {
      "cell_type": "markdown",
      "source": [
        "## Lidando com dados nulos"
      ],
      "metadata": {
        "id": "sx6e737KaaWV"
      }
    },
    {
      "cell_type": "code",
      "source": [],
      "metadata": {
        "id": "XYFrVbLlWX0j"
      },
      "execution_count": null,
      "outputs": []
    },
    {
      "cell_type": "code",
      "source": [],
      "metadata": {
        "id": "vtgPgHGnWYTZ"
      },
      "execution_count": null,
      "outputs": []
    },
    {
      "cell_type": "code",
      "source": [],
      "metadata": {
        "id": "Mw2m96vCaZvE"
      },
      "execution_count": null,
      "outputs": []
    },
    {
      "cell_type": "code",
      "source": [],
      "metadata": {
        "id": "KRF0dAyBaZq7"
      },
      "execution_count": null,
      "outputs": []
    },
    {
      "cell_type": "code",
      "source": [],
      "metadata": {
        "id": "Plaat1OsbJ-5"
      },
      "execution_count": null,
      "outputs": []
    },
    {
      "cell_type": "code",
      "source": [],
      "metadata": {
        "id": "wYReiMYibLZ1"
      },
      "execution_count": null,
      "outputs": []
    },
    {
      "cell_type": "markdown",
      "source": [
        "## Removendo registros"
      ],
      "metadata": {
        "id": "B_OC_jS8cL0n"
      }
    },
    {
      "cell_type": "code",
      "source": [],
      "metadata": {
        "id": "H955G70zcKwX"
      },
      "execution_count": null,
      "outputs": []
    },
    {
      "cell_type": "code",
      "source": [],
      "metadata": {
        "id": "7M_YtGLgxd0k"
      },
      "execution_count": null,
      "outputs": []
    },
    {
      "cell_type": "code",
      "source": [],
      "metadata": {
        "id": "R28sDOakx0dX"
      },
      "execution_count": null,
      "outputs": []
    },
    {
      "cell_type": "code",
      "source": [],
      "metadata": {
        "id": "p4UIflVTcKtN"
      },
      "execution_count": null,
      "outputs": []
    },
    {
      "cell_type": "code",
      "source": [],
      "metadata": {
        "id": "-hydAdP2e4m4"
      },
      "execution_count": null,
      "outputs": []
    },
    {
      "cell_type": "code",
      "source": [],
      "metadata": {
        "id": "jLJ8MM7byGHq"
      },
      "execution_count": null,
      "outputs": []
    },
    {
      "cell_type": "code",
      "source": [],
      "metadata": {
        "id": "Roc3lFaEe6lZ"
      },
      "execution_count": null,
      "outputs": []
    },
    {
      "cell_type": "code",
      "source": [],
      "metadata": {
        "id": "ksSN-IzN8Z7i"
      },
      "execution_count": null,
      "outputs": []
    },
    {
      "cell_type": "code",
      "source": [],
      "metadata": {
        "id": "XohBafvw8dsX"
      },
      "execution_count": null,
      "outputs": []
    },
    {
      "cell_type": "markdown",
      "source": [
        "## Filtros"
      ],
      "metadata": {
        "id": "khQPzyksg5Hx"
      }
    },
    {
      "cell_type": "markdown",
      "source": [
        "### **1. Apartamentos que possuem `1 quarto` e `aluguel menor que 1200`**\n",
        "\n"
      ],
      "metadata": {
        "id": "ruP5z4iUy0HA"
      }
    },
    {
      "cell_type": "code",
      "source": [],
      "metadata": {
        "id": "qTimHdpn-UjL"
      },
      "execution_count": null,
      "outputs": []
    },
    {
      "cell_type": "code",
      "source": [],
      "metadata": {
        "id": "_HAkpI9EeMPv"
      },
      "execution_count": null,
      "outputs": []
    },
    {
      "cell_type": "code",
      "source": [],
      "metadata": {
        "id": "i_uf0kP-0Jcv"
      },
      "execution_count": null,
      "outputs": []
    },
    {
      "cell_type": "code",
      "source": [],
      "metadata": {
        "id": "9iZXXwkE0JaL"
      },
      "execution_count": null,
      "outputs": []
    },
    {
      "cell_type": "code",
      "source": [],
      "metadata": {
        "id": "hTtHjRF271SQ"
      },
      "execution_count": null,
      "outputs": []
    },
    {
      "cell_type": "markdown",
      "source": [
        "### **2. `Apartamentos` que possuem pelo menos `2 quartos`, `aluguel menor que 3000` e `area maior que 70`**"
      ],
      "metadata": {
        "id": "cFeUf691y0oy"
      }
    },
    {
      "cell_type": "code",
      "source": [],
      "metadata": {
        "id": "nt0alj_leMeZ"
      },
      "execution_count": null,
      "outputs": []
    },
    {
      "cell_type": "code",
      "source": [],
      "metadata": {
        "id": "5b30hBhj76LA"
      },
      "execution_count": null,
      "outputs": []
    },
    {
      "cell_type": "markdown",
      "source": [
        "## Salvando os dados"
      ],
      "metadata": {
        "id": "X44FZQVd8Bdy"
      }
    },
    {
      "cell_type": "code",
      "source": [],
      "metadata": {
        "id": "KrvHtvZm9BXQ"
      },
      "execution_count": null,
      "outputs": []
    },
    {
      "cell_type": "code",
      "source": [],
      "metadata": {
        "id": "3MkTUyhj-G4L"
      },
      "execution_count": null,
      "outputs": []
    },
    {
      "cell_type": "code",
      "source": [],
      "metadata": {
        "id": "PuNhu13f96o0"
      },
      "execution_count": null,
      "outputs": []
    },
    {
      "cell_type": "code",
      "source": [],
      "metadata": {
        "id": "JlTd_yEP-F6B"
      },
      "execution_count": null,
      "outputs": []
    },
    {
      "cell_type": "code",
      "source": [],
      "metadata": {
        "id": "qtrF3cN3-PHn"
      },
      "execution_count": null,
      "outputs": []
    },
    {
      "cell_type": "code",
      "source": [],
      "metadata": {
        "id": "ldKDP26a-Rk1"
      },
      "execution_count": null,
      "outputs": []
    },
    {
      "cell_type": "code",
      "source": [],
      "metadata": {
        "id": "Y5e2jaBR-UmV"
      },
      "execution_count": null,
      "outputs": []
    },
    {
      "cell_type": "code",
      "source": [],
      "metadata": {
        "id": "x02MX4-bc6uR"
      },
      "execution_count": null,
      "outputs": []
    },
    {
      "cell_type": "markdown",
      "source": [
        "# Manipulando os dados"
      ],
      "metadata": {
        "id": "e6eJTZfKWXEs"
      }
    },
    {
      "cell_type": "markdown",
      "source": [
        "## Criando colunas numéricas"
      ],
      "metadata": {
        "id": "3i_NaXfjadEI"
      }
    },
    {
      "cell_type": "code",
      "source": [],
      "metadata": {
        "id": "49JAtiMED73t"
      },
      "execution_count": null,
      "outputs": []
    },
    {
      "cell_type": "code",
      "source": [],
      "metadata": {
        "id": "rBejF2_badiG"
      },
      "execution_count": null,
      "outputs": []
    },
    {
      "cell_type": "code",
      "source": [],
      "metadata": {
        "id": "66yfztw3ad2P"
      },
      "execution_count": null,
      "outputs": []
    },
    {
      "cell_type": "markdown",
      "source": [
        "## Criando colunas categóricas"
      ],
      "metadata": {
        "id": "TZtb57m2bjzR"
      }
    },
    {
      "cell_type": "code",
      "source": [],
      "metadata": {
        "id": "tb4crkqWJO3u"
      },
      "execution_count": null,
      "outputs": []
    },
    {
      "cell_type": "code",
      "source": [],
      "metadata": {
        "id": "gmfpWCBENjGx"
      },
      "execution_count": null,
      "outputs": []
    },
    {
      "cell_type": "code",
      "source": [],
      "metadata": {
        "id": "Z-27rFc7NSwq"
      },
      "execution_count": null,
      "outputs": []
    },
    {
      "cell_type": "code",
      "source": [],
      "metadata": {
        "id": "QSLfaWHlbkgD"
      },
      "execution_count": null,
      "outputs": []
    },
    {
      "cell_type": "code",
      "source": [],
      "metadata": {
        "id": "oAYh5rVAbkZp"
      },
      "execution_count": null,
      "outputs": []
    }
  ]
}